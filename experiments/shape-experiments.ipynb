{
 "cells": [
  {
   "cell_type": "code",
   "execution_count": 1,
   "metadata": {},
   "outputs": [],
   "source": [
    "import torch\n",
    "from torch import Tensor\n",
    "from torch.nn import Linear"
   ]
  },
  {
   "cell_type": "code",
   "execution_count": 2,
   "metadata": {},
   "outputs": [
    {
     "name": "stdout",
     "output_type": "stream",
     "text": [
      "2 5 4\n"
     ]
    },
    {
     "data": {
      "text/plain": [
       "tensor([[[ 0.,  1.,  2.,  3.],\n",
       "         [ 4.,  5.,  6.,  7.],\n",
       "         [ 8.,  9., 10., 11.],\n",
       "         [12., 13., 14., 15.],\n",
       "         [16., 17., 18., 19.]],\n",
       "\n",
       "        [[20., 21., 22., 23.],\n",
       "         [24., 25., 26., 27.],\n",
       "         [28., 29., 30., 31.],\n",
       "         [32., 33., 34., 35.],\n",
       "         [36., 37., 38., 39.]]])"
      ]
     },
     "execution_count": 2,
     "metadata": {},
     "output_type": "execute_result"
    }
   ],
   "source": [
    "n_batch = 2\n",
    "n_token = 5\n",
    "dim_model = 4\n",
    "total_len = n_batch*n_token*dim_model\n",
    "a = torch.arange(total_len, dtype=torch.float32).reshape((n_batch, n_token, dim_model))\n",
    "#print(a.shape)\n",
    "B, T, C = a.shape\n",
    "print(B, T, C)\n",
    "a"
   ]
  },
  {
   "cell_type": "code",
   "execution_count": 3,
   "metadata": {},
   "outputs": [
    {
     "name": "stdout",
     "output_type": "stream",
     "text": [
      "torch.Size([2, 5, 12])\n"
     ]
    }
   ],
   "source": [
    "c_attn = Linear(dim_model, 3 * dim_model)\n",
    "\n",
    "b = c_attn(a).round()\n",
    "print(b.shape)\n",
    "#b"
   ]
  },
  {
   "cell_type": "code",
   "execution_count": 4,
   "metadata": {},
   "outputs": [
    {
     "name": "stdout",
     "output_type": "stream",
     "text": [
      "torch.Size([2, 5, 4]) torch.Size([2, 5, 4]) torch.Size([2, 5, 4])\n"
     ]
    },
    {
     "data": {
      "text/plain": [
       "(tensor([[[ -1.,  -1.,   2.,  -2.],\n",
       "          [ -3.,  -3.,   3.,  -6.],\n",
       "          [ -6.,  -5.,   5.,  -9.],\n",
       "          [ -8.,  -6.,   6., -13.],\n",
       "          [-11.,  -8.,   8., -16.]],\n",
       " \n",
       "         [[-13., -10.,   9., -20.],\n",
       "          [-15., -11.,  11., -24.],\n",
       "          [-18., -13.,  12., -27.],\n",
       "          [-20., -15.,  14., -31.],\n",
       "          [-23., -16.,  16., -35.]]], grad_fn=<SplitBackward0>),\n",
       " tensor([[[ -0.,  -2.,  -1.,  -0.],\n",
       "          [ -1.,  -5.,  -1.,  -0.],\n",
       "          [ -1.,  -8.,  -1.,   0.],\n",
       "          [ -1., -11.,  -0.,   0.],\n",
       "          [ -1., -14.,   0.,   1.]],\n",
       " \n",
       "         [[ -1., -17.,   0.,   1.],\n",
       "          [ -2., -20.,   1.,   1.],\n",
       "          [ -2., -23.,   1.,   1.],\n",
       "          [ -2., -26.,   1.,   1.],\n",
       "          [ -2., -29.,   2.,   2.]]], grad_fn=<SplitBackward0>),\n",
       " tensor([[[  1.,  -0.,   1.,  -1.],\n",
       "          [  0.,  -2.,   2.,   1.],\n",
       "          [ -1.,  -3.,   3.,   3.],\n",
       "          [ -2.,  -4.,   4.,   4.],\n",
       "          [ -2.,  -5.,   5.,   6.]],\n",
       " \n",
       "         [[ -3.,  -7.,   6.,   8.],\n",
       "          [ -4.,  -8.,   7.,  10.],\n",
       "          [ -5.,  -9.,   8.,  12.],\n",
       "          [ -6., -10.,   9.,  13.],\n",
       "          [ -7., -12.,  10.,  15.]]], grad_fn=<SplitBackward0>))"
      ]
     },
     "execution_count": 4,
     "metadata": {},
     "output_type": "execute_result"
    }
   ],
   "source": [
    "q, k, v = b.split(dim_model, dim=-1)\n",
    "print(q.shape, k.shape, v.shape)\n",
    "q, k, v"
   ]
  },
  {
   "cell_type": "code",
   "execution_count": 5,
   "metadata": {},
   "outputs": [
    {
     "data": {
      "text/plain": [
       "tensor([[0., 0., 0., 0.],\n",
       "        [1., 0., 0., 0.],\n",
       "        [1., 1., 0., 0.],\n",
       "        [1., 1., 1., 0.]])"
      ]
     },
     "execution_count": 5,
     "metadata": {},
     "output_type": "execute_result"
    }
   ],
   "source": [
    "m = torch.tril(torch.ones((4,4)), diagonal=-1)\n",
    "m"
   ]
  },
  {
   "cell_type": "code",
   "execution_count": 6,
   "metadata": {},
   "outputs": [
    {
     "data": {
      "text/plain": [
       "tensor([[0., 1., 1., 1.],\n",
       "        [0., 0., 1., 1.],\n",
       "        [0., 0., 0., 1.],\n",
       "        [0., 0., 0., 0.]])"
      ]
     },
     "execution_count": 6,
     "metadata": {},
     "output_type": "execute_result"
    }
   ],
   "source": [
    "m.transpose(-2, -1)"
   ]
  },
  {
   "cell_type": "code",
   "execution_count": 14,
   "metadata": {},
   "outputs": [
    {
     "name": "stdout",
     "output_type": "stream",
     "text": [
      "torch.Size([5])\n"
     ]
    },
    {
     "data": {
      "text/plain": [
       "tensor([[[[1., 1., 1., 1., 1.],\n",
       "          [1., 1., 1., 1., 1.],\n",
       "          [1., 1., 1., 1., 1.],\n",
       "          [1., 1., 1., 1., 1.]],\n",
       "\n",
       "         [[1., 1., 1., 1., 1.],\n",
       "          [1., 1., 1., 1., 1.],\n",
       "          [1., 1., 1., 1., 1.],\n",
       "          [1., 1., 1., 1., 1.]],\n",
       "\n",
       "         [[1., 1., 1., 1., 1.],\n",
       "          [1., 1., 1., 1., 1.],\n",
       "          [1., 1., 1., 1., 1.],\n",
       "          [1., 1., 1., 1., 1.]]],\n",
       "\n",
       "\n",
       "        [[[1., 1., 1., 1., 1.],\n",
       "          [1., 1., 1., 1., 1.],\n",
       "          [1., 1., 1., 1., 1.],\n",
       "          [1., 1., 1., 1., 1.]],\n",
       "\n",
       "         [[1., 1., 1., 1., 1.],\n",
       "          [1., 1., 1., 1., 1.],\n",
       "          [1., 1., 1., 1., 1.],\n",
       "          [1., 1., 1., 1., 1.]],\n",
       "\n",
       "         [[1., 1., 1., 1., 1.],\n",
       "          [1., 1., 1., 1., 1.],\n",
       "          [1., 1., 1., 1., 1.],\n",
       "          [1., 1., 1., 1., 1.]]]])"
      ]
     },
     "execution_count": 14,
     "metadata": {},
     "output_type": "execute_result"
    }
   ],
   "source": [
    "n = torch.ones((2,3,4,5))\n",
    "print(n.shape[-1:])\n",
    "n"
   ]
  }
 ],
 "metadata": {
  "kernelspec": {
   "display_name": "nanogpt3.12.3-nightly",
   "language": "python",
   "name": "python3"
  },
  "language_info": {
   "codemirror_mode": {
    "name": "ipython",
    "version": 3
   },
   "file_extension": ".py",
   "mimetype": "text/x-python",
   "name": "python",
   "nbconvert_exporter": "python",
   "pygments_lexer": "ipython3",
   "version": "3.12.3"
  }
 },
 "nbformat": 4,
 "nbformat_minor": 2
}

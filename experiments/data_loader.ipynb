{
 "cells": [
  {
   "cell_type": "code",
   "execution_count": 1,
   "metadata": {},
   "outputs": [],
   "source": [
    "import numpy as np\n",
    "import torch\n",
    "from pathlib import Path"
   ]
  },
  {
   "cell_type": "code",
   "execution_count": 2,
   "metadata": {},
   "outputs": [
    {
     "name": "stdout",
     "output_type": "stream",
     "text": [
      "1003854\n"
     ]
    }
   ],
   "source": [
    "path = Path.cwd() / \"..\" / \"data\" / \"shakespeare_char\" / \"train.bin\"\n",
    "data = np.memmap(path, dtype=np.uint16, mode=\"r\")\n",
    "\n",
    "print(len(data))"
   ]
  },
  {
   "cell_type": "code",
   "execution_count": 3,
   "metadata": {},
   "outputs": [],
   "source": [
    "batch_size = 4\n",
    "seq_len = 8\n",
    "\n",
    "num_seq = (len(data) - 1) // seq_len\n",
    "\n",
    "last_idx = num_seq * seq_len\n"
   ]
  },
  {
   "cell_type": "code",
   "execution_count": 4,
   "metadata": {},
   "outputs": [
    {
     "data": {
      "text/plain": [
       "tensor([505562, 372919, 121209, 869482])"
      ]
     },
     "execution_count": 4,
     "metadata": {},
     "output_type": "execute_result"
    }
   ],
   "source": [
    "torch.randint(len(data) - seq_len, (batch_size,))"
   ]
  },
  {
   "cell_type": "code",
   "execution_count": 5,
   "metadata": {},
   "outputs": [
    {
     "name": "stdout",
     "output_type": "stream",
     "text": [
      "0 tensor([452358, 297687, 133625, 894345])\n",
      "tensor([[61, 47, 50, 50,  1, 57, 58, 47],\n",
      "        [ 1, 58, 46, 43,  1, 46, 39, 59],\n",
      "        [ 1, 46, 43, 39, 56,  1, 58, 46],\n",
      "        [42, 43, 56,  1, 42, 53, 61, 52]])\n",
      "1 tensor([971480, 465743, 559762, 952115])\n",
      "tensor([[44,  1, 58, 46, 43,  1, 40, 53],\n",
      "        [47, 57,  1, 39, 52,  1, 43, 51],\n",
      "        [58, 43, 56,  5, 42,  6,  1, 58],\n",
      "        [47, 51, 39, 45, 47, 52, 43, 42]])\n",
      "2 tensor([696522, 140070, 262360, 519278])\n",
      "tensor([[39, 60, 43,  1, 57, 39, 60, 43],\n",
      "        [50, 58,  1, 52, 53, 58,  7,  7],\n",
      "        [ 1, 58, 46, 53, 59,  1, 47, 52],\n",
      "        [39, 56, 49,  1, 63, 43,  6,  1]])\n"
     ]
    }
   ],
   "source": [
    "for i in range(3):\n",
    "    #i = [i for i in torch.arange(0, batch_size).reshape((batch_size, ))]\n",
    "    ix = torch.randint(len(data) - seq_len, (batch_size,))\n",
    "    t = torch.stack([torch.from_numpy((data[i : i + seq_len]).astype(np.int64)) for i in ix])\n",
    "    print(i, ix)\n",
    "    print(t)"
   ]
  }
 ],
 "metadata": {
  "kernelspec": {
   "display_name": "nanogpt23",
   "language": "python",
   "name": "python3"
  },
  "language_info": {
   "codemirror_mode": {
    "name": "ipython",
    "version": 3
   },
   "file_extension": ".py",
   "mimetype": "text/x-python",
   "name": "python",
   "nbconvert_exporter": "python",
   "pygments_lexer": "ipython3",
   "version": "3.11.2"
  }
 },
 "nbformat": 4,
 "nbformat_minor": 2
}

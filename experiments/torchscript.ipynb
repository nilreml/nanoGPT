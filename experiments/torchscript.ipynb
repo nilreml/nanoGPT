{
 "cells": [
  {
   "cell_type": "code",
   "execution_count": 1,
   "metadata": {},
   "outputs": [],
   "source": [
    "from typing import TYPE_CHECKING\n",
    "\n",
    "import lovely_tensors as lt\n",
    "import torch\n",
    "from torch import Tensor, nn"
   ]
  },
  {
   "cell_type": "code",
   "execution_count": 2,
   "metadata": {},
   "outputs": [],
   "source": [
    "# Display all cell outputs\n",
    "from IPython.core.interactiveshell import InteractiveShell\n",
    "\n",
    "InteractiveShell.ast_node_interactivity = \"all\" # type: ignore  # noqa: PGH003"
   ]
  },
  {
   "cell_type": "code",
   "execution_count": 3,
   "metadata": {},
   "outputs": [],
   "source": [
    "dtype = torch.float32"
   ]
  },
  {
   "cell_type": "code",
   "execution_count": 4,
   "metadata": {},
   "outputs": [],
   "source": [
    "class Layer(nn.Module):\n",
    "    def __init__(self) -> None:\n",
    "        super().__init__()\n",
    "        self.weights = nn.Parameter(torch.tensor([[-1, 1], [-2, 2]], dtype=dtype))\n",
    "\n",
    "    def forward(self, x:Tensor) -> Tensor:\n",
    "        return torch.matmul(x, self.weights)\n",
    "\n",
    "    if TYPE_CHECKING:\n",
    "        def __call__(self, x:Tensor) -> Tensor: ..."
   ]
  },
  {
   "cell_type": "code",
   "execution_count": 11,
   "metadata": {},
   "outputs": [
    {
     "data": {
      "text/plain": [
       "graph(%self : __torch__.Layer,\n",
       "      %x.1 : Tensor):\n",
       "  %weights : Tensor = prim::GetAttr[name=\"weights\"](%self)\n",
       "  %4 : Tensor = aten::matmul(%x.1, %weights) # /tmp/ipykernel_3836931/1800329445.py:7:15\n",
       "  return (%4)"
      ]
     },
     "execution_count": 11,
     "metadata": {},
     "output_type": "execute_result"
    },
    {
     "data": {
      "text/plain": [
       "graph(%self : __torch__.___torch_mangle_4.Layer,\n",
       "      %x : Float(2, strides=[1], requires_grad=0, device=cpu)):\n",
       "  %weights : Tensor = prim::GetAttr[name=\"weights\"](%self)\n",
       "  %5 : Float(2, strides=[1], requires_grad=1, device=cpu) = aten::matmul(%x, %weights) # /tmp/ipykernel_3836931/1800329445.py:7:0\n",
       "  return (%5)"
      ]
     },
     "execution_count": 11,
     "metadata": {},
     "output_type": "execute_result"
    }
   ],
   "source": [
    "data = torch.tensor([1, 2], dtype=dtype)\n",
    "target = torch.tensor([0, 1], dtype=dtype)\n",
    "\n",
    "model = Layer()\n",
    "\n",
    "scripted_model = torch.jit.script(model)\n",
    "scripted_model.graph\n",
    "\n",
    "traced_model = torch.jit.trace(model, data)\n",
    "traced_model.graph"
   ]
  },
  {
   "cell_type": "code",
   "execution_count": 13,
   "metadata": {},
   "outputs": [
    {
     "name": "stdout",
     "output_type": "stream",
     "text": [
      "loss: -1.0\n",
      "tensor([[-1.,  1.],\n",
      "        [-2.,  2.]])\n",
      "tensor([[2., 2.],\n",
      "        [4., 4.]])\n"
     ]
    },
    {
     "ename": "RuntimeError",
     "evalue": "example_kwarg_inputs should be a dict",
     "output_type": "error",
     "traceback": [
      "\u001b[0;31m---------------------------------------------------------------------------\u001b[0m",
      "\u001b[0;31mRuntimeError\u001b[0m                              Traceback (most recent call last)",
      "Cell \u001b[0;32mIn[13], line 16\u001b[0m\n\u001b[1;32m     13\u001b[0m \u001b[38;5;28mprint\u001b[39m(model\u001b[38;5;241m.\u001b[39mweights\u001b[38;5;241m.\u001b[39mdata)\n\u001b[1;32m     14\u001b[0m \u001b[38;5;28mprint\u001b[39m(model\u001b[38;5;241m.\u001b[39mweights\u001b[38;5;241m.\u001b[39mgrad)\n\u001b[0;32m---> 16\u001b[0m \u001b[43mtorch\u001b[49m\u001b[38;5;241;43m.\u001b[39;49m\u001b[43mjit\u001b[49m\u001b[38;5;241;43m.\u001b[39;49m\u001b[43mtrace\u001b[49m\u001b[43m(\u001b[49m\u001b[43mmodel\u001b[49m\u001b[43m)\u001b[49m\n\u001b[1;32m     18\u001b[0m \u001b[38;5;66;03m#w -= learning_rate * w.grad.data\u001b[39;00m\n",
      "File \u001b[0;32m~/.virtualenvs/nanogpt23/lib/python3.11/site-packages/torch/jit/_trace.py:819\u001b[0m, in \u001b[0;36mtrace\u001b[0;34m(func, example_inputs, optimize, check_trace, check_inputs, check_tolerance, strict, _force_outplace, _module_class, _compilation_unit, example_kwarg_inputs, _store_inputs)\u001b[0m\n\u001b[1;32m    817\u001b[0m             example_inputs \u001b[38;5;241m=\u001b[39m example_kwarg_inputs\n\u001b[1;32m    818\u001b[0m         \u001b[38;5;28;01melse\u001b[39;00m:\n\u001b[0;32m--> 819\u001b[0m             \u001b[38;5;28;01mraise\u001b[39;00m \u001b[38;5;167;01mRuntimeError\u001b[39;00m(\u001b[38;5;124m\"\u001b[39m\u001b[38;5;124mexample_kwarg_inputs should be a dict\u001b[39m\u001b[38;5;124m\"\u001b[39m)\n\u001b[1;32m    820\u001b[0m     \u001b[38;5;28;01mreturn\u001b[39;00m trace_module(\n\u001b[1;32m    821\u001b[0m         func,\n\u001b[1;32m    822\u001b[0m         {\u001b[38;5;124m\"\u001b[39m\u001b[38;5;124mforward\u001b[39m\u001b[38;5;124m\"\u001b[39m: example_inputs},\n\u001b[0;32m   (...)\u001b[0m\n\u001b[1;32m    831\u001b[0m         _store_inputs\u001b[38;5;241m=\u001b[39m_store_inputs,\n\u001b[1;32m    832\u001b[0m     )\n\u001b[1;32m    833\u001b[0m \u001b[38;5;28;01mif\u001b[39;00m (\n\u001b[1;32m    834\u001b[0m     \u001b[38;5;28mhasattr\u001b[39m(func, \u001b[38;5;124m\"\u001b[39m\u001b[38;5;124m__self__\u001b[39m\u001b[38;5;124m\"\u001b[39m)\n\u001b[1;32m    835\u001b[0m     \u001b[38;5;129;01mand\u001b[39;00m \u001b[38;5;28misinstance\u001b[39m(func\u001b[38;5;241m.\u001b[39m\u001b[38;5;18m__self__\u001b[39m, torch\u001b[38;5;241m.\u001b[39mnn\u001b[38;5;241m.\u001b[39mModule)\n\u001b[1;32m    836\u001b[0m     \u001b[38;5;129;01mand\u001b[39;00m func\u001b[38;5;241m.\u001b[39m\u001b[38;5;18m__name__\u001b[39m \u001b[38;5;241m==\u001b[39m \u001b[38;5;124m\"\u001b[39m\u001b[38;5;124mforward\u001b[39m\u001b[38;5;124m\"\u001b[39m\n\u001b[1;32m    837\u001b[0m ):\n",
      "\u001b[0;31mRuntimeError\u001b[0m: example_kwarg_inputs should be a dict"
     ]
    }
   ],
   "source": [
    "# SGD\n",
    "\n",
    "learning_rate = 0.1\n",
    "\n",
    "#w.grad.data.zero_()\n",
    "\n",
    "output = model(data)\n",
    "loss = (output - target).sum()\n",
    "print(f\"loss: {loss}\")\n",
    "\n",
    "loss.backward()\n",
    "\n",
    "print(model.weights.data)\n",
    "print(model.weights.grad)\n",
    "\n",
    "torch.jit.trace(model)\n",
    "\n",
    "#w -= learning_rate * w.grad.data"
   ]
  }
 ],
 "metadata": {
  "kernelspec": {
   "display_name": "nanogpt3.12.3-nightly",
   "language": "python",
   "name": "python3"
  },
  "language_info": {
   "codemirror_mode": {
    "name": "ipython",
    "version": 3
   },
   "file_extension": ".py",
   "mimetype": "text/x-python",
   "name": "python",
   "nbconvert_exporter": "python",
   "pygments_lexer": "ipython3",
   "version": "3.11.2"
  }
 },
 "nbformat": 4,
 "nbformat_minor": 2
}

{
 "cells": [
  {
   "cell_type": "code",
   "execution_count": 1,
   "metadata": {},
   "outputs": [],
   "source": [
    "import torch\n",
    "from torch import Tensor, optim\n",
    "from torch.autograd import Variable"
   ]
  },
  {
   "cell_type": "code",
   "execution_count": 2,
   "metadata": {},
   "outputs": [],
   "source": [
    "dtype = torch.float32"
   ]
  },
  {
   "cell_type": "code",
   "execution_count": 3,
   "metadata": {},
   "outputs": [
    {
     "name": "stdout",
     "output_type": "stream",
     "text": [
      "tensor([[-1.,  1.],\n",
      "        [-2.,  2.]], requires_grad=True)\n"
     ]
    }
   ],
   "source": [
    "def linear_model(x:Tensor, w:Tensor) -> Tensor:\n",
    "    return torch.matmul(x, w)\n",
    "\n",
    "dim_model = 2\n",
    "\n",
    "w = Variable(torch.tensor([[-1, 1], [-2, 2]], dtype=dtype), requires_grad=True)\n",
    "\n",
    "data = torch.tensor([1, 2], dtype=dtype)\n",
    "target = torch.tensor([0, 1], dtype=dtype)\n",
    "\n",
    "print(w)"
   ]
  },
  {
   "cell_type": "code",
   "execution_count": 55,
   "metadata": {},
   "outputs": [
    {
     "name": "stdout",
     "output_type": "stream",
     "text": [
      "tensor(-1., grad_fn=<SumBackward0>)\n",
      "tensor(-1., grad_fn=<SumBackward0>)\n",
      "tensor([[-1.,  1.],\n",
      "        [-2.,  2.]], requires_grad=True)\n",
      "tensor([[ 51.,  51.],\n",
      "        [102., 102.]])\n"
     ]
    }
   ],
   "source": [
    "# SGD\n",
    "\n",
    "learning_rate = 0.1\n",
    "\n",
    "#w.grad.data.zero_()\n",
    "\n",
    "output = linear_model(data, w)\n",
    "loss = (output - target).sum()\n",
    "print(loss)\n",
    "\n",
    "loss.backward()\n",
    "\n",
    "print(loss)\n",
    "print(w)\n",
    "print(w.grad)\n",
    "\n",
    "#w -= learning_rate * w.grad.data"
   ]
  },
  {
   "cell_type": "code",
   "execution_count": 5,
   "metadata": {},
   "outputs": [],
   "source": [
    "# Adam\n",
    "\n",
    "# optimizer = optim.Adam([w])\n",
    "\n",
    "# for sample, target in zip(data, targets):\n",
    "#     # clear out the gradients of all Variables\n",
    "#     optimizer.zero_grad()\n",
    "\n",
    "#     output = linear_model(sample, w)\n",
    "#     loss = (output - target) ** 2\n",
    "#     loss.backward()\n",
    "\n",
    "#     optimizer.step()"
   ]
  }
 ],
 "metadata": {
  "kernelspec": {
   "display_name": "nanogpt3.12.3-nightly",
   "language": "python",
   "name": "python3"
  },
  "language_info": {
   "codemirror_mode": {
    "name": "ipython",
    "version": 3
   },
   "file_extension": ".py",
   "mimetype": "text/x-python",
   "name": "python",
   "nbconvert_exporter": "python",
   "pygments_lexer": "ipython3",
   "version": "3.11.2"
  }
 },
 "nbformat": 4,
 "nbformat_minor": 2
}

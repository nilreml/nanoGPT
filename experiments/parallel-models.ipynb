{
 "cells": [
  {
   "cell_type": "code",
   "execution_count": 1,
   "metadata": {},
   "outputs": [],
   "source": [
    "from typing import Literal\n",
    "\n",
    "from pydantic import BaseModel\n",
    "import torch\n",
    "from torch import Tensor, nn"
   ]
  },
  {
   "cell_type": "code",
   "execution_count": 2,
   "metadata": {},
   "outputs": [],
   "source": [
    "dtype = torch.float32"
   ]
  },
  {
   "cell_type": "code",
   "execution_count": 3,
   "metadata": {},
   "outputs": [],
   "source": [
    "from typing import TYPE_CHECKING\n",
    "\n",
    "\n",
    "class Config(BaseModel):\n",
    "    dim_model: int\n",
    "\n",
    "\n",
    "class Block(nn.Module):\n",
    "    def __init__(self, config: Config) -> None:\n",
    "        super().__init__()\n",
    "        self.in_proj = nn.Linear(config.dim_model, config.dim_model, bias=False)\n",
    "        self.init_weights()\n",
    "\n",
    "    def init_weights(self) -> None:\n",
    "        with torch.no_grad():\n",
    "            self.in_proj.weight.data.fill_(0.0)\n",
    "\n",
    "    def forward(self, x: Tensor) -> Tensor:\n",
    "        return self.in_proj(x)\n",
    "\n",
    "    if TYPE_CHECKING:\n",
    "        def __call__(self, x: Tensor) -> Tensor: ..."
   ]
  },
  {
   "cell_type": "code",
   "execution_count": 4,
   "metadata": {},
   "outputs": [
    {
     "name": "stdout",
     "output_type": "stream",
     "text": [
      "Parameter containing:\n",
      "tensor([[0., 0.],\n",
      "        [0., 0.]], requires_grad=True)\n",
      "Parameter containing:\n",
      "tensor([[0., 0.],\n",
      "        [0., 0.]], requires_grad=True)\n",
      "None\n",
      "tensor(-30., grad_fn=<SumBackward0>)\n",
      "None\n"
     ]
    }
   ],
   "source": [
    "X = Tensor([1, 2])\n",
    "Y = Tensor([10, 20])\n",
    "\n",
    "config = Config(dim_model=2)\n",
    "block = Block(config)\n",
    "\n",
    "print(block.in_proj.weight)\n",
    "\n",
    "Z = block(X)\n",
    "print(block.in_proj.weight)\n",
    "\n",
    "loss = (Z - Y).sum()\n",
    "\n",
    "print(block.in_proj.weight.data.grad)\n",
    "print(loss)\n",
    "\n",
    "loss.backward()\n",
    "\n",
    "print(block.in_proj.weight.data.grad)"
   ]
  }
 ],
 "metadata": {
  "kernelspec": {
   "display_name": "nanogpt3.12.3-nightly",
   "language": "python",
   "name": "python3"
  },
  "language_info": {
   "codemirror_mode": {
    "name": "ipython",
    "version": 3
   },
   "file_extension": ".py",
   "mimetype": "text/x-python",
   "name": "python",
   "nbconvert_exporter": "python",
   "pygments_lexer": "ipython3",
   "version": "3.11.2"
  }
 },
 "nbformat": 4,
 "nbformat_minor": 2
}
